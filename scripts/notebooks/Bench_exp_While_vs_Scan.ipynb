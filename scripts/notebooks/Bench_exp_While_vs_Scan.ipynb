{
 "cells": [
  {
   "cell_type": "code",
   "execution_count": 1,
   "metadata": {},
   "outputs": [],
   "source": [
    "import sys\n",
    "import tensorflow as tf\n",
    "tf.config.threading.set_inter_op_parallelism_threads(0)\n",
    "tf.config.threading.set_intra_op_parallelism_threads(0)\n",
    "tf.config.experimental.enable_mlir_bridge()\n",
    "\n",
    "tf.config.thallow_soft_placement=True\n",
    "\n",
    "\n",
    "import pymc4 as pm\n",
    "import arviz as az\n",
    "import tensorflow_probability as tfp\n",
    "\n",
    "from tensorflow.keras.backend import sum as tf_sum\n",
    "\n",
    "import numpy as np\n",
    "\n",
    "import logging\n",
    "\n",
    "import matplotlib.pyplot as plt\n",
    "\n",
    "log = logging.getLogger(__name__)\n"
   ]
  },
  {
   "cell_type": "code",
   "execution_count": 2,
   "metadata": {},
   "outputs": [
    {
     "name": "stdout",
     "output_type": "stream",
     "text": [
      "[PhysicalDevice(name='/physical_device:CPU:0', device_type='CPU')]\n",
      "None\n",
      "silent\n",
      "0\n",
      "0\n",
      "{'disable_model_pruning': False, 'disable_meta_optimizer': False}\n"
     ]
    }
   ],
   "source": [
    "\n",
    "physical_devices = tf.config.list_physical_devices('CPU')\n",
    "config = tf.config.get_logical_device_configuration(physical_devices[0])\n",
    "print(physical_devices)\n",
    "print(config)\n",
    "\n",
    "print(tf.config.experimental.get_device_policy())\n",
    "\n",
    "print(tf.config.threading.get_inter_op_parallelism_threads())\n",
    "print(tf.config.threading.get_intra_op_parallelism_threads())\n",
    "print(tf.config.optimizer.get_experimental_options())"
   ]
  },
  {
   "cell_type": "code",
   "execution_count": 3,
   "metadata": {},
   "outputs": [],
   "source": [
    "from pymc4.distributions.transforms import Transform, JacobianPreference\n",
    "from tensorflow_probability import bijectors as tfb\n",
    "\n",
    "\n",
    "\n",
    "class transform_Log(Transform):\n",
    "    name = \"log\"\n",
    "    JacobianPreference = JacobianPreference.Backward\n",
    "\n",
    "    def __init__(self,reinterpreted_batch_ndims):\n",
    "        # NOTE: We actually need the inverse to match PyMC3, do we?\n",
    "        self._transform = tfb.Exp()\n",
    "        self._reinterpreted_batch_ndims = reinterpreted_batch_ndims\n",
    "\n",
    "    def forward(self, x):\n",
    "        return self._transform.inverse(x)\n",
    "\n",
    "    def inverse(self, z):\n",
    "        return self._transform.forward(z)\n",
    "\n",
    "    def forward_log_det_jacobian(self, x):\n",
    "        return self._transform.inverse_log_det_jacobian(x, self._transform.inverse_min_event_ndims + self._reinterpreted_batch_ndims)\n",
    "\n",
    "    def inverse_log_det_jacobian(self, z):\n",
    "        return self._transform.forward_log_det_jacobian(z, self._transform.forward_min_event_ndims + self._reinterpreted_batch_ndims)"
   ]
  },
  {
   "cell_type": "code",
   "execution_count": 4,
   "metadata": {
    "scrolled": false
   },
   "outputs": [
    {
     "data": {
      "text/plain": [
       "[<matplotlib.lines.Line2D at 0x13f2881d0>]"
      ]
     },
     "execution_count": 4,
     "metadata": {},
     "output_type": "execute_result"
    },
    {
     "data": {
      "image/png": "[encoded data removed]",
      "text/plain": [
       "<Figure size 432x288 with 1 Axes>"
      ]
     },
     "metadata": {
      "needs_background": "light"
     },
     "output_type": "display_data"
    }
   ],
   "source": [
    "# Generate Test data: exponential\n",
    "DTYPE = tf.float32\n",
    "data = tf.math.exp(tf.range(0,64,.25,dtype=DTYPE))\n",
    "data *= tfp.distributions.LogNormal(loc=tf.cast(0,DTYPE),scale=.2).sample(data.shape[0])\n",
    "\n",
    "plt.semilogy(data)"
   ]
  },
  {
   "cell_type": "code",
   "execution_count": 10,
   "metadata": {
    "scrolled": false
   },
   "outputs": [
    {
     "name": "stdout",
     "output_type": "stream",
     "text": [
      "\n",
      " - - - - \n",
      "a (1,) <dtype: 'float32'>\n",
      "observed (256, 1) <dtype: 'float32'>\n",
      "like (256, 1) <dtype: 'float32'>\n",
      "\n",
      " - - - - \n",
      "a (16, 1) <dtype: 'float32'>\n",
      "observed (256, 1) <dtype: 'float32'>\n",
      "like (16, 256, 1) <dtype: 'float32'>\n",
      "\n",
      " - - - - \n",
      "a (16, 1) <dtype: 'float32'>\n",
      "observed (256, 1) <dtype: 'float32'>\n",
      "like (16, 256, 1) <dtype: 'float32'>\n",
      "WARNING:tensorflow:6 out of the last 6 calls to <function compile.<locals>.xla_compile_wrapper at 0x146281b00> triggered tf.function retracing. Tracing is expensive and the excessive number of tracings could be due to (1) creating @tf.function repeatedly in a loop, (2) passing tensors with different shapes, (3) passing Python objects instead of tensors. For (1), please define your @tf.function outside of the loop. For (2), @tf.function has experimental_relax_shapes=True option that relaxes argument shapes that can avoid unnecessary retracing. For (3), please refer to https://www.tensorflow.org/tutorials/customization/performance#python_or_tensor_args and https://www.tensorflow.org/api_docs/python/tf/function for  more details.\n",
      "CPU times: user 1min 16s, sys: 24.3 s, total: 1min 41s\n",
      "Wall time: 37.9 s\n"
     ]
    }
   ],
   "source": [
    "\n",
    "@tf.function(autograph=True,experimental_compile=True)\n",
    "def f0(d,b):\n",
    "    r = tf.range(0,d.shape[-1],dtype=DTYPE)\n",
    "    est = tf.math.exp(b*r)\n",
    "    est = tf.expand_dims(est,-1)\n",
    "    return est\n",
    "\n",
    "@tf.function(autograph=True)\n",
    "def f1(d,b):\n",
    "    a_size = d.shape[-1]\n",
    "    e_size = b.shape#[None,b.shape[-1]]\n",
    "    print(\"func_input\",d.shape,b.shape,\"array\",a_size,\"x\",e_size,\"type\",d.dtype,b.dtype)\n",
    "    \n",
    "    # Setup TensorArray and run loop\n",
    "    ta = tf.TensorArray(DTYPE, size=a_size, dynamic_size=False , element_shape=e_size )\n",
    "    ta = ta.write(0,tf.ones(b.shape,dtype=DTYPE))\n",
    "    \n",
    "    for i in tf.range(d.shape[-1]-1):\n",
    "        ta = ta.write(i+1, ta.read(i)*b)\n",
    "    r = ta.stack()\n",
    "    \n",
    "#    c = tf.less(tf.rank(b),2)\n",
    " #   r = tf.cond(c, lambda : r, lambda : tf.transpose(r,tf.concat([[1,0],tf.range(2,tf.rank(r))],0) )  )\n",
    "    if len(r.shape) == 3:\n",
    "        r = tf.transpose(r,perm=[1,0,2] )\n",
    "    \n",
    "    print(\"func_result\",r.shape,r.dtype)\n",
    "    \n",
    "    return r\n",
    "\n",
    "@tf.function(autograph=True)\n",
    "def f1_mod(d,b):\n",
    "    a_size = d.shape[-1]\n",
    "    e_size = b.shape#[None,b.shape[-1]]\n",
    "    print(\"func_input\",d.shape,b.shape,\"array\",a_size,\"x\",e_size,\"type\",d.dtype,b.dtype)\n",
    "    \n",
    "    # Setup TensorArray and run loop\n",
    "    ta = tf.TensorArray(DTYPE, size=a_size, dynamic_size=False , element_shape=e_size )\n",
    "    ta = ta.write(0,tf.ones(b.shape,dtype=DTYPE))\n",
    "    \n",
    "#    for i in tf.range(d.shape[-1]-1):\n",
    " #       ta = ta.write(i+1, ta.read(i)*b)\n",
    " \n",
    "    _,ta = tf.while_loop(lambda i,*_:i <d.shape[-1]-1,\n",
    "                         lambda i,a : (i+1,ta.write(i+1,ta.read(i)*b)),\n",
    "                         (0,ta),\n",
    "                         maximum_iterations=d.shape[-1]-1\n",
    "                        )\n",
    "\n",
    "    r = ta.stack()\n",
    "#    c = tf.less(tf.rank(b),2)\n",
    " #   r = tf.cond(c, lambda : r, lambda : tf.transpose(r,tf.concat([[1,0],tf.range(2,tf.rank(r))],0) )  )\n",
    "    if len(r.shape) == 3:\n",
    "        r = tf.transpose(r,perm=[1,0,2] )\n",
    "    \n",
    "    print(\"func_result\",r.shape,r.dtype)\n",
    "    \n",
    "    return r\n",
    "\n",
    "\n",
    "@tf.function(autograph=True)\n",
    "def f2(d,b):\n",
    "\n",
    "    r = tf.scan(lambda a,x : a*b ,d, tf.ones(b.shape,dtype=DTYPE))\n",
    " \n",
    " #   c = tf.less(tf.rank(b),2)\n",
    "#    r = tf.cond(c, lambda : r, lambda : tf.transpose(r,tf.concat([[1,0],tf.range(2,tf.rank(r))],0) )  )\n",
    "\n",
    "    if len(r.shape) == 3:\n",
    "        r = tf.transpose(r,perm=[1,0,2])\n",
    "\n",
    "    return r\n",
    "\n",
    "@tf.function(autograph=True)\n",
    "def f3(d,b):\n",
    "\n",
    "    r = tf.scan(lambda a,x : a*b ,d, tf.ones(b.shape,dtype=DTYPE))\n",
    " \n",
    " #   c = tf.less(tf.rank(b),2)\n",
    "#    r = tf.cond(c, lambda : r, lambda : tf.transpose(r,tf.concat([[1,0],tf.range(2,tf.rank(r))],0) )  )\n",
    "\n",
    "    if len(r.shape) == 3:\n",
    "        r = tf.transpose(r,perm=[1,0,2])\n",
    "\n",
    "    return r\n",
    "\n",
    "@pm.model\n",
    "def test_model(data):\n",
    "    print(\"\\n - - - - \")\n",
    "    a = yield pm.LogNormal(name=\"a\",\n",
    "                           loc=tf.math.log(tf.ones(1,dtype=DTYPE)*2),\n",
    "                           scale=.5,\n",
    "                           conditionally_independent=True,\n",
    "                           reinterpreted_batch_ndims=1,\n",
    "#                           event_stack=0,\n",
    "                           transform=transform_Log(reinterpreted_batch_ndims=1)\n",
    "                          )\n",
    "    print(\"a\",a.shape,a.dtype)\n",
    "    \n",
    "    # Fit an explicit exponential \n",
    "#    est = f0(data,a)\n",
    "    \n",
    "    # Fit exponete\n",
    " #   est = f1(data,a)\n",
    "#    est = f1_mod(data,a)\n",
    "\n",
    "    est = f2(data,a)\n",
    "    \n",
    "    # The Rest:\n",
    "    est_d = yield pm.Deterministic(\"est\",est)\n",
    "\n",
    "    data = tf.expand_dims(data,-1)\n",
    "    print(\"observed\",data.shape,data.dtype)\n",
    "    \n",
    "    like = yield pm.StudentT(name=\"like\",\n",
    "                             loc=est,\n",
    "                             observed = data,\n",
    "                             reinterpreted_batch_ndims=2,\n",
    "                             scale=1,df=4\n",
    "                            )\n",
    "    print(\"like\",like.shape,like.dtype)\n",
    "    \n",
    "%time trace = pm.sample(test_model(data), num_samples=1024, burn_in=256, num_chains=16,xla=True,use_auto_batching=False)\n",
    "\n"
   ]
  },
  {
   "cell_type": "code",
   "execution_count": null,
   "metadata": {},
   "outputs": [],
   "source": [
    "# Benchmark: (intra and inter = 0 --> system dicides)\n",
    "# f2 128 points , (512+128)*  4 chains (   xla) :    4.88 s CPU,  4.9  s  wall\n",
    "#               , (512+128)*  4 chains (no xla) :  1:07 min CPU,   56  s  wall\n",
    "#               , (512+128)* 16 chains (   xla) :    6.37 s CPU,  5.75 s  wall\n",
    "#               , (512+128)* 16 chains (no xla) :  6:09 min CPU, 6:18 min wall\n",
    "#               , (512+128)*256 chains (   xla) :    51.2 s CPU,  25.5 s  wall\n",
    "#               , (512+128)*256 chains (   xla) :    55.7 s CPU,  28.8 s  wall #2\n",
    "#               , (512+128)*512 chains (   xla) :  2:49 min CPU, 1:13 min wall\n",
    "# f2 256 points , (512+128)*512 chains (   xla) :  2:09 min CPU,  58.2 s  wall\n",
    "# f1_mod        , (512+128)*512 chains (   xla) :  3:57 min CPU, 3:00 min wall\n",
    "# f2            , ( 2k+128)* 1k chains (   xla) : 14:59 min CPU, 5:45 min wall\n",
    "# f2            , ( 2k+128)* 1k chains (   xla) : 13:58 min CPU, 5:19 min wall\n",
    "# f1_mo         , ( 2k+128)* 1k chains (   xla) : 25:38 min CPU,17:07 min wall\n",
    "\n",
    "# f2            , ( 4k+128)* 1k chains (   xla) : 24:34 min CPU, 8:59 min wall ~7GB\n",
    "# f2            , ( 2k+128)* 1k chains (   xla) : 19:57 min CPU, 7:13 min wall  8/8\n",
    "# f2            , ( 2k+128)* 1k chains (   xla) :  7:50 min CPU, 3:18 min wall  16/16 ~7GB\n",
    "# f2            , ( 4k+128)* 1k chains (   xla) : 11:20 min CPU, 4:50 min wall  16/16 ~7GB\n",
    "\n",
    "\n",
    "# f1 128 points , (512+128)* 32 chains (no xla) : 15:04 min CPU,10:33 min wall\n",
    "# f2 128 points , (512+128)* 32 chains (no xla) :  8:16 min CPU, 7:13 min wall\n",
    "# f2 128 points , (512+128)* 32 chains (no xla) :  7:33 min CPU, 6:38 min wall\n",
    "\n",
    "# f1 256 points , (512+128)* 32 chains (no xla) :  9:44 min CPU, 6:05 min wall\n",
    "# f1 256 points , (512+128)* 64 chains (no xla) : 10:56 min CPU, 6:48 min wall\n",
    "# f1 256 points , (512+128)*128 chains (no xla) : 16:05 min CPU,10:08 min wall\n",
    "# f2 256 points , (512+128)* 64 chains (no xla) :  6:11 min CPU, 5:34 min wall\n",
    "# f2 256 points , (512+128)*128 chains (no xla) : 16:22 min CPU,14:17 min wall\n",
    "# f2 256 points , (512+128)*128 chains (   xla) :    24.8 s CPU,  15.5 s  wall\n",
    "#f1m 256 points , (512+128)*128 chains (   xla) :    54.7 s CPU,  58.7 s  wall\n",
    "\n"
   ]
  },
  {
   "cell_type": "code",
   "execution_count": null,
   "metadata": {},
   "outputs": [],
   "source": [
    "a = trace.posterior[\"test_model/a\"].data\n",
    "print(\"a=\",np.mean(a,axis=(0,1)))\n",
    "est = trace.posterior[\"test_model/est\"]\n",
    "print(est.shape)\n",
    "\n",
    "\n",
    "plt.semilogy(np.mean(est,axis=(0,1)))\n",
    "plt.semilogy(data,label=\"data\")\n",
    "plt.legend()\n",
    "\n",
    "trace"
   ]
  },
  {
   "cell_type": "code",
   "execution_count": null,
   "metadata": {},
   "outputs": [],
   "source": [
    "_ = az.plot_trace(trace,var_names=[\"test_model/a\"])"
   ]
  },
  {
   "cell_type": "code",
   "execution_count": null,
   "metadata": {},
   "outputs": [],
   "source": [
    "tf.TensorShape([])"
   ]
  },
  {
   "cell_type": "code",
   "execution_count": null,
   "metadata": {},
   "outputs": [],
   "source": [
    "import tensorflow as tf\n",
    "\n",
    "a = tf.add(1, 2, name=\"Add_these_numbers\")\n",
    "b = tf.multiply(a, 3)\n",
    "c = tf.add(4, 5, name=\"And_These_ones\")\n",
    "d = tf.multiply(c, 6, name=\"Multiply_these_numbers\")\n",
    "e = tf.multiply(4, 5, name=\"B_add\")\n",
    "#f = tf.math.div(c, 6, name=\"B_mul\")\n",
    "g = tf.add(b, d)\n",
    "h = tf.multiply(g, d)\n",
    "\n"
   ]
  },
  {
   "cell_type": "code",
   "execution_count": null,
   "metadata": {
    "scrolled": false
   },
   "outputs": [],
   "source": [
    "print(data)\n",
    "\n",
    "\n",
    "@tf.function()\n",
    "def generator(d):\n",
    "    \n",
    "    k = tf.TensorArray( size=0, dynamic_size=True, dtype=tf.float32)\n",
    "#    i0 = tf.math.exp(tf.range(-16,0,dtype=tf.float32))\n",
    "    k = k.write(0,[1])\n",
    "    \n",
    "    @tf.function()\n",
    "    def body(i, l):\n",
    "        x,a = l # unpack\n",
    "        ta = ta.write(i+1,ta.read(i)+1)\n",
    "        return (i+1, (x,a))\n",
    "\n",
    "    \n",
    "    \n",
    "    init = (0, (d,k))\n",
    "    condition = lambda i, _: i < d.shape[-1]\n",
    "    \n",
    "    (i_final, jk_final) = tf.while_loop(condition, body, init)\n",
    "\n",
    "    \n",
    "    return k.stack()\n",
    "   # return tf.stack(k)\n",
    "\n",
    "print(\"output\")\n",
    "\n",
    "r = generator(data)\n",
    "print(r)\n"
   ]
  },
  {
   "cell_type": "code",
   "execution_count": null,
   "metadata": {
    "scrolled": false
   },
   "outputs": [],
   "source": [
    "\n",
    "@tf.function\n",
    "def f(x):\n",
    "    ta = tf.TensorArray(tf.int32, size=0, dynamic_size=True)\n",
    "    ta = ta.write(0,1)\n",
    "    for i in tf.range(x):\n",
    "        tf.print(ta.read(i))\n",
    "        ta = ta.write(i+1, ta.read(i)*2)\n",
    "    return ta.stack()\n",
    "\n",
    "f(10)\n"
   ]
  },
  {
   "cell_type": "code",
   "execution_count": null,
   "metadata": {
    "scrolled": false
   },
   "outputs": [],
   "source": [
    "@tf.function()\n",
    "def f(d,b):\n",
    "    ta = tf.TensorArray(tf.float32, size=d.shape[-1]+1, dynamic_size=False)\n",
    "    ta = ta.write(0,1)\n",
    "    for i in tf.range(d.shape[-1]):\n",
    "        ta = ta.write(i+1, ta.read(i)*b)\n",
    "#    return tf.slice(ta.stack(),[1],size=[d.shape[0]])\n",
    "    return ta.stack()[...,1:]\n",
    "\n",
    "\n",
    "#est = f( tf.slice(data,begin=[0],size=[64]), .25 )\n",
    "est = f(data[:-1],.25)\n",
    "    \n",
    "print(est)\n",
    "print(data)"
   ]
  },
  {
   "cell_type": "code",
   "execution_count": null,
   "metadata": {},
   "outputs": [],
   "source": [
    "@tf.function(autograph=False)\n",
    "def test(l,x):\n",
    "    last,a = l\n",
    "#    tf.print(last)\n",
    "    return [last*a,a]\n",
    "\n",
    "\n",
    "\n",
    "\n",
    "# exponential using scan-function\n",
    "r = tf.scan(test,\n",
    "            tf.range(8,dtype=tf.float32),\n",
    "            [tf.ones(1,dtype=tf.float32),tf.constant(1.19,dtype=tf.float32)],\n",
    "            parallel_iterations=1\n",
    "           )\n",
    "\n",
    "\n",
    "tf.print(tf.reshape(r[0],[r[0].shape[0]]))\n",
    "\n",
    "# exponential using while-function\n",
    "\n",
    "print(data)\n",
    "print(r)\n",
    "tf.GradientTape(r,0)"
   ]
  },
  {
   "cell_type": "code",
   "execution_count": null,
   "metadata": {},
   "outputs": [],
   "source": [
    "a = tf.cast([[[1],[2],[3],[4]]],tf.int32)\n",
    "tf.repeat(a,4,axis=0)"
   ]
  },
  {
   "cell_type": "code",
   "execution_count": null,
   "metadata": {
    "scrolled": false
   },
   "outputs": [],
   "source": []
  },
  {
   "cell_type": "code",
   "execution_count": null,
   "metadata": {},
   "outputs": [],
   "source": []
  }
 ],
 "metadata": {
  "kernelspec": {
   "display_name": "Python 3",
   "language": "python",
   "name": "python3"
  },
  "language_info": {
   "codemirror_mode": {
    "name": "ipython",
    "version": 3
   },
   "file_extension": ".py",
   "mimetype": "text/x-python",
   "name": "python",
   "nbconvert_exporter": "python",
   "pygments_lexer": "ipython3",
   "version": "3.7.8"
  }
 },
 "nbformat": 4,
 "nbformat_minor": 4
}
